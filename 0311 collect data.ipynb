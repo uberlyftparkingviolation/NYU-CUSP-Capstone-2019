{
 "cells": [
  {
   "cell_type": "code",
   "execution_count": 4,
   "metadata": {
    "ExecuteTime": {
     "end_time": "2019-04-19T05:14:00.403088Z",
     "start_time": "2019-04-19T05:13:54.648103Z"
    }
   },
   "outputs": [],
   "source": [
    "import os\n",
    "import pandas\n",
    "import numpy"
   ]
  },
  {
   "cell_type": "markdown",
   "metadata": {},
   "source": [
    "# FHV"
   ]
  },
  {
   "cell_type": "markdown",
   "metadata": {},
   "source": [
    "https://s3.amazonaws.com/nyc-tlc/trip+data/fhv_tripdata_2018-06.csv  \n",
    "https://s3.amazonaws.com/nyc-tlc/trip+data/fhv_tripdata_2015-01.csv  "
   ]
  },
  {
   "cell_type": "markdown",
   "metadata": {},
   "source": [
    "## download file"
   ]
  },
  {
   "cell_type": "code",
   "execution_count": 2,
   "metadata": {
    "ExecuteTime": {
     "end_time": "2019-04-19T00:52:02.254194Z",
     "start_time": "2019-04-19T00:52:02.248214Z"
    }
   },
   "outputs": [],
   "source": [
    "#  Generate a year-month list with a start year-month and an end year-month\n",
    "def generate_year_month_list(start, end):\n",
    "    monthlist = []\n",
    "    for year in range(int(start[:4]),int(end[:4])+1):\n",
    "        for month in range(1,13):\n",
    "            if month >= 10:\n",
    "                temp = str(year) + \"-\" + str(month) \n",
    "            else:\n",
    "                temp = str(year) + \"-\" + '0' + str(month) \n",
    "            monthlist.append(temp)\n",
    "    if int(end[-2:]) == 12:\n",
    "        return monthlist[int(start[-2:])-1:]\n",
    "    else:\n",
    "        return monthlist[int(start[-2:])-1: int(end[-2:])-12]"
   ]
  },
  {
   "cell_type": "code",
   "execution_count": 3,
   "metadata": {
    "ExecuteTime": {
     "end_time": "2019-04-19T00:52:02.272118Z",
     "start_time": "2019-04-19T00:52:02.255163Z"
    },
    "scrolled": true
   },
   "outputs": [
    {
     "data": {
      "text/plain": [
       "['2015-01',\n",
       " '2015-02',\n",
       " '2015-03',\n",
       " '2015-04',\n",
       " '2015-05',\n",
       " '2015-06',\n",
       " '2015-07',\n",
       " '2015-08',\n",
       " '2015-09',\n",
       " '2015-10',\n",
       " '2015-11',\n",
       " '2015-12',\n",
       " '2016-01',\n",
       " '2016-02',\n",
       " '2016-03',\n",
       " '2016-04',\n",
       " '2016-05',\n",
       " '2016-06',\n",
       " '2016-07',\n",
       " '2016-08',\n",
       " '2016-09',\n",
       " '2016-10',\n",
       " '2016-11',\n",
       " '2016-12',\n",
       " '2017-01',\n",
       " '2017-02',\n",
       " '2017-03',\n",
       " '2017-04',\n",
       " '2017-05',\n",
       " '2017-06',\n",
       " '2017-07',\n",
       " '2017-08',\n",
       " '2017-09',\n",
       " '2017-10',\n",
       " '2017-11',\n",
       " '2017-12',\n",
       " '2018-01',\n",
       " '2018-02',\n",
       " '2018-03',\n",
       " '2018-04',\n",
       " '2018-05',\n",
       " '2018-06']"
      ]
     },
     "execution_count": 3,
     "metadata": {},
     "output_type": "execute_result"
    }
   ],
   "source": [
    "year_month_list = generate_year_month_list(\"2015-01\",\"2018-06\")\n",
    "year_month_list"
   ]
  },
  {
   "cell_type": "code",
   "execution_count": 4,
   "metadata": {
    "ExecuteTime": {
     "end_time": "2019-04-19T00:52:02.281232Z",
     "start_time": "2019-04-19T00:52:02.275145Z"
    }
   },
   "outputs": [],
   "source": [
    "def getFHVData(year_month):\n",
    "    filename = \"fhv_\" + year_month + \".csv\"\n",
    "    if not os.path.isfile(\"data_fhv/\" + filename):\n",
    "        os.system(\"curl https://s3.amazonaws.com/nyc-tlc/trip+data/fhv_tripdata_\" + year_month + \".csv\" + \"> \" + filename)\n",
    "        os.system(\"mv \" + filename + \" data_fhv\")\n",
    "        print(\"file downloading completed\")\n",
    "    else:\n",
    "        print(\"file in place, you can continue\")"
   ]
  },
  {
   "cell_type": "code",
   "execution_count": 5,
   "metadata": {
    "ExecuteTime": {
     "end_time": "2019-04-19T00:52:07.879514Z",
     "start_time": "2019-04-19T00:52:02.283090Z"
    }
   },
   "outputs": [
    {
     "name": "stdout",
     "output_type": "stream",
     "text": [
      "file downloading completed\n"
     ]
    }
   ],
   "source": [
    "getFHVData(year_month_list[0])"
   ]
  },
  {
   "cell_type": "code",
   "execution_count": 6,
   "metadata": {
    "ExecuteTime": {
     "end_time": "2019-04-19T01:22:20.467876Z",
     "start_time": "2019-04-19T00:52:07.881486Z"
    },
    "scrolled": true
   },
   "outputs": [
    {
     "name": "stdout",
     "output_type": "stream",
     "text": [
      "2015-01\n",
      "file in place, you can continue\n",
      "2015-02\n",
      "file downloading completed\n",
      "2015-03\n",
      "file downloading completed\n",
      "2015-04\n",
      "file downloading completed\n",
      "2015-05\n",
      "file downloading completed\n",
      "2015-06\n",
      "file downloading completed\n",
      "2015-07\n",
      "file downloading completed\n",
      "2015-08\n",
      "file downloading completed\n",
      "2015-09\n",
      "file downloading completed\n",
      "2015-10\n",
      "file downloading completed\n",
      "2015-11\n",
      "file downloading completed\n",
      "2015-12\n",
      "file downloading completed\n",
      "2016-01\n",
      "file downloading completed\n",
      "2016-02\n",
      "file downloading completed\n",
      "2016-03\n",
      "file downloading completed\n",
      "2016-04\n",
      "file downloading completed\n",
      "2016-05\n",
      "file downloading completed\n",
      "2016-06\n",
      "file downloading completed\n",
      "2016-07\n",
      "file downloading completed\n",
      "2016-08\n",
      "file downloading completed\n",
      "2016-09\n",
      "file downloading completed\n",
      "2016-10\n",
      "file downloading completed\n",
      "2016-11\n",
      "file downloading completed\n",
      "2016-12\n",
      "file downloading completed\n",
      "2017-01\n",
      "file downloading completed\n",
      "2017-02\n",
      "file downloading completed\n",
      "2017-03\n",
      "file downloading completed\n",
      "2017-04\n",
      "file downloading completed\n",
      "2017-05\n",
      "file downloading completed\n",
      "2017-06\n",
      "file downloading completed\n",
      "2017-07\n",
      "file downloading completed\n",
      "2017-08\n",
      "file downloading completed\n",
      "2017-09\n",
      "file downloading completed\n",
      "2017-10\n",
      "file downloading completed\n",
      "2017-11\n",
      "file downloading completed\n",
      "2017-12\n",
      "file downloading completed\n",
      "2018-01\n",
      "file downloading completed\n",
      "2018-02\n",
      "file downloading completed\n",
      "2018-03\n",
      "file downloading completed\n",
      "2018-04\n",
      "file downloading completed\n",
      "2018-05\n",
      "file downloading completed\n",
      "2018-06\n",
      "file downloading completed\n",
      "Wall time: 30min 12s\n"
     ]
    }
   ],
   "source": [
    "%%time\n",
    "for i in year_month_list:\n",
    "    print(i)\n",
    "    getFHVData(i)"
   ]
  },
  {
   "cell_type": "markdown",
   "metadata": {},
   "source": [
    "## check file"
   ]
  },
  {
   "cell_type": "markdown",
   "metadata": {},
   "source": [
    "fhv = pandas.read_csv(\"data_fhv/fhv_2015-01.csv\")\n",
    "print(fhv.shape)\n",
    "fhv.head()"
   ]
  },
  {
   "cell_type": "markdown",
   "metadata": {},
   "source": [
    "# Parking Tickets"
   ]
  },
  {
   "cell_type": "markdown",
   "metadata": {},
   "source": [
    "https://data.cityofnewyork.us/api/views/pvqr-7yc4/rows.csv?accessType=DOWNLOAD  \n",
    "https://data.cityofnewyork.us/api/views/a5td-mswe/rows.csv?accessType=DOWNLOAD  \n",
    "https://data.cityofnewyork.us/api/views/2bnn-yakx/rows.csv?accessType=DOWNLOAD  \n",
    "https://data.cityofnewyork.us/api/views/kiv2-tbus/rows.csv?accessType=DOWNLOAD  \n",
    "https://data.cityofnewyork.us/api/views/c284-tqph/rows.csv?accessType=DOWNLOAD  \n",
    "https://data.cityofnewyork.us/api/views/jt7v-77mi/rows.csv?accessType=DOWNLOAD"
   ]
  },
  {
   "cell_type": "markdown",
   "metadata": {},
   "source": [
    "## download file"
   ]
  },
  {
   "cell_type": "code",
   "execution_count": 5,
   "metadata": {
    "ExecuteTime": {
     "end_time": "2019-04-19T05:14:13.257026Z",
     "start_time": "2019-04-19T05:14:13.245057Z"
    }
   },
   "outputs": [],
   "source": [
    "def getTicketData(year):\n",
    "    datastring = datastrings[year]\n",
    "    filename = \"tickets_\" + year + \".csv\"\n",
    "    if not os.path.isfile(\"data_tickets/\" + filename):\n",
    "        os.system(\"curl https://data.cityofnewyork.us/api/views/\" + datastring + \"/rows.csv?accessType=DOWNLOAD\" + \"> \" + filename)\n",
    "        os.system(\"mv \" + filename + \" data_tickets\")\n",
    "        print(\"file downloading completed\")\n",
    "    else:\n",
    "        print(\"file in place, you can continue\")"
   ]
  },
  {
   "cell_type": "code",
   "execution_count": 6,
   "metadata": {
    "ExecuteTime": {
     "end_time": "2019-04-19T05:14:13.300910Z",
     "start_time": "2019-04-19T05:14:13.263009Z"
    }
   },
   "outputs": [],
   "source": [
    "datastrings = {\"2019\": \"pvqr-7yc4\", \n",
    "              \"2018\": \"a5td-mswe\", \n",
    "              \"2017\": \"2bnn-yakx\", \n",
    "              \"2016\": \"kiv2-tbus\", \n",
    "              \"2015\": \"c284-tqph\", \n",
    "              \"2014\": \"jt7v-77mi\"}"
   ]
  },
  {
   "cell_type": "code",
   "execution_count": 7,
   "metadata": {
    "ExecuteTime": {
     "end_time": "2019-04-19T06:37:00.155056Z",
     "start_time": "2019-04-19T05:14:13.304897Z"
    },
    "scrolled": true
   },
   "outputs": [
    {
     "name": "stdout",
     "output_type": "stream",
     "text": [
      "2019\n",
      "file downloading completed\n",
      "2018\n",
      "file downloading completed\n",
      "2017\n",
      "file downloading completed\n",
      "2016\n",
      "file downloading completed\n",
      "2015\n",
      "file downloading completed\n",
      "2014\n",
      "file downloading completed\n",
      "Wall time: 1h 22min 46s\n"
     ]
    }
   ],
   "source": [
    "%%time\n",
    "for i in datastrings.keys():\n",
    "    print(i)\n",
    "    getTicketData(i)"
   ]
  },
  {
   "cell_type": "markdown",
   "metadata": {},
   "source": [
    "## check file"
   ]
  },
  {
   "cell_type": "markdown",
   "metadata": {},
   "source": [
    "%%time\n",
    "ticket = pandas.read_csv(\"data_tickets/tickets_2015.csv\")\n",
    "print(ticket.shape)\n",
    "ticket.head()"
   ]
  }
 ],
 "metadata": {
  "kernelspec": {
   "display_name": "Python 3",
   "language": "python",
   "name": "python3"
  },
  "language_info": {
   "codemirror_mode": {
    "name": "ipython",
    "version": 3
   },
   "file_extension": ".py",
   "mimetype": "text/x-python",
   "name": "python",
   "nbconvert_exporter": "python",
   "pygments_lexer": "ipython3",
   "version": "3.6.8"
  },
  "toc": {
   "base_numbering": 1,
   "nav_menu": {},
   "number_sections": true,
   "sideBar": true,
   "skip_h1_title": false,
   "title_cell": "Table of Contents",
   "title_sidebar": "Contents",
   "toc_cell": false,
   "toc_position": {},
   "toc_section_display": true,
   "toc_window_display": false
  }
 },
 "nbformat": 4,
 "nbformat_minor": 2
}
